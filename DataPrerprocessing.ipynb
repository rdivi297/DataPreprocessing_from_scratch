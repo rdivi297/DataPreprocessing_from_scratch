{
  "nbformat": 4,
  "nbformat_minor": 0,
  "metadata": {
    "colab": {
      "provenance": [],
      "mount_file_id": "12ixP_8tCqhHcBqRg29cz6v_iN8002wdh",
      "authorship_tag": "ABX9TyNVLYjuW1H4E82dUzeX5102",
      "include_colab_link": true
    },
    "kernelspec": {
      "name": "python3",
      "display_name": "Python 3"
    },
    "language_info": {
      "name": "python"
    }
  },
  "cells": [
    {
      "cell_type": "markdown",
      "metadata": {
        "id": "view-in-github",
        "colab_type": "text"
      },
      "source": [
        "<a href=\"https://colab.research.google.com/github/rdivi297/DataPreprocessing_from_scratch/blob/main/DataPrerprocessing.ipynb\" target=\"_parent\"><img src=\"https://colab.research.google.com/assets/colab-badge.svg\" alt=\"Open In Colab\"/></a>"
      ]
    },
    {
      "cell_type": "code",
      "execution_count": 2,
      "metadata": {
        "id": "d4bLxKHoMglc"
      },
      "outputs": [],
      "source": [
        "\n",
        "import numpy as np\n",
        "import pandas as pd"
      ]
    },
    {
      "cell_type": "code",
      "source": [
        "df=pd.read_csv(\"/content/drive/MyDrive/weather.csv\")\n",
        "print(df.head())"
      ],
      "metadata": {
        "id": "VHqLUwUiKTjd",
        "colab": {
          "base_uri": "https://localhost:8080/"
        },
        "outputId": "840bdbb0-0ffb-4dc3-a391-e06b1b649f15"
      },
      "execution_count": 10,
      "outputs": [
        {
          "output_type": "stream",
          "name": "stdout",
          "text": [
            "    Outlook  Temp Humidity  Windy  Play\n",
            "0     rainy   hot     high      0     0\n",
            "1     rainy   hot     high      1     0\n",
            "2  overcast   hot     high      0     1\n",
            "3     sunny  mild     high      0     1\n",
            "4     sunny  cool   normal      0     1\n"
          ]
        }
      ]
    },
    {
      "cell_type": "code",
      "source": [
        "def find_entropy(df):\n",
        "  label=df.keys()[-1]\n",
        "  entropy=0\n",
        "  values=df[label].unique()\n",
        "  for value in values:\n",
        "    prob=len(df[df[label]==value])/len(df)\n",
        "    entropy-=prob*np.log2(prob)\n",
        "  return entropy\n",
        "find_entropy(df)"
      ],
      "metadata": {
        "colab": {
          "base_uri": "https://localhost:8080/"
        },
        "id": "_g0N0PTuQnGo",
        "outputId": "f723356f-82fe-4a36-996a-2cd78eb58693"
      },
      "execution_count": 14,
      "outputs": [
        {
          "output_type": "execute_result",
          "data": {
            "text/plain": [
              "0.9402859586706311"
            ]
          },
          "metadata": {},
          "execution_count": 14
        }
      ]
    },
    {
      "cell_type": "code",
      "source": [
        "def avg_info_entropy(df,attribute):\n",
        "  target=df.keys()[-1]\n",
        "  target_values=df[target].unique()\n",
        "  attribute_values=df[attribute].unique()\n",
        "  avgentropy=0\n",
        "  for value in attribute_values:\n",
        "    entropy=0\n",
        "    for value1 in target_values:\n",
        "      num=len(df[attribute][df[attribute]==value][df[target]==value1])\n",
        "      den=len(df[attribute][df[attribute]==value])\n",
        "      prob=num/den\n",
        "      entropy-=prob*np.log2(prob+1e-7)\n",
        "    weight=den/len(df)\n",
        "    avgentropy+=entropy*weight\n",
        "  return avgentropy\n",
        "avg_info_entropy(df,'Windy')\n",
        "\n"
      ],
      "metadata": {
        "colab": {
          "base_uri": "https://localhost:8080/"
        },
        "id": "sSX0bX1MQuDB",
        "outputId": "e25c531b-a716-4df4-d194-70a7bcde47d4"
      },
      "execution_count": 22,
      "outputs": [
        {
          "output_type": "execute_result",
          "data": {
            "text/plain": [
              "0.8921586397233878"
            ]
          },
          "metadata": {},
          "execution_count": 22
        }
      ]
    },
    {
      "cell_type": "code",
      "source": [
        "def winner(df):\n",
        "  attributes=df.keys()[:-1]\n",
        "  IG=[]\n",
        "  for attribute in attributes:\n",
        "    IG.append(find_entropy(df)-avg_info_entropy(df,attribute))\n",
        "  print(IG)\n",
        "  return attributes[np.argmax(IG)]\n",
        "winner(df)"
      ],
      "metadata": {
        "colab": {
          "base_uri": "https://localhost:8080/",
          "height": 73
        },
        "id": "QG8gS_yGW6Lj",
        "outputId": "ef3dbf0f-f1b1-4a23-f09a-6b7dbad17738"
      },
      "execution_count": 23,
      "outputs": [
        {
          "output_type": "stream",
          "name": "stdout",
          "text": [
            "[0.24675006709356562, 0.029222854197929804, 0.15183578990130564, 0.048127318947243314]\n"
          ]
        },
        {
          "output_type": "execute_result",
          "data": {
            "text/plain": [
              "'Outlook'"
            ],
            "application/vnd.google.colaboratory.intrinsic+json": {
              "type": "string"
            }
          },
          "metadata": {},
          "execution_count": 23
        }
      ]
    },
    {
      "cell_type": "code",
      "source": [
        "def training(df,tree=None):\n",
        "  node=winner(df)\n",
        "  if tree is None:\n",
        "    tree={}\n",
        "    tree[node]={}\n",
        "  node_unique_values=df[node].unique()\n",
        "  target=df.keys()[-1]\n",
        "  for value in node_unique_values:\n",
        "    sub_df=df[df[node]==value]\n",
        "    target_unique=sub_df[target].unique()\n",
        "    if(len(target_unique)==1):\n",
        "      tree[node][value]=target_unique[0]\n",
        "    else:\n",
        "      tree[node][value]=training(sub_df)\n",
        "  return tree\n",
        "tree=training(df)\n",
        "\n",
        "\n"
      ],
      "metadata": {
        "colab": {
          "base_uri": "https://localhost:8080/"
        },
        "id": "SobApLgXZrlf",
        "outputId": "6bb9a917-3514-4a85-fb6d-4f3390ee5484"
      },
      "execution_count": 32,
      "outputs": [
        {
          "output_type": "stream",
          "name": "stdout",
          "text": [
            "[0.24675006709356562, 0.029222854197929804, 0.15183578990130564, 0.048127318947243314]\n",
            "[2.8853897804381745e-07, 0.5709507964319583, 0.9709507387241655, 0.019973382560951936]\n",
            "[2.8853897804381745e-07, 0.019973382560951936, 0.019973382560951936, 0.9709507387241655]\n"
          ]
        }
      ]
    },
    {
      "cell_type": "code",
      "source": [
        "def prediction(instance,tree):\n",
        "  for node in tree.keys():\n",
        "    value=instance[node]\n",
        "    subtree=tree[node][value]\n",
        "    label=0\n",
        "    if type(subtree) is dict:\n",
        "      label=prediction(instance,subtree)\n",
        "    else:\n",
        "      label=subtree\n",
        "      break;\n",
        "  return label\n"
      ],
      "metadata": {
        "id": "evFVRTz8d-tp"
      },
      "execution_count": 39,
      "outputs": []
    },
    {
      "cell_type": "code",
      "source": [
        "df2=pd.read_csv(\"/content/drive/MyDrive/weather_test.csv\")\n",
        "y_label=[]\n",
        "for i in range(len(df2)):\n",
        "  y_label.append(prediction(df2.iloc[i,:],tree))\n",
        "y_label"
      ],
      "metadata": {
        "colab": {
          "base_uri": "https://localhost:8080/"
        },
        "id": "oniat0VkgUfG",
        "outputId": "3e8cb725-ea29-414f-bbe0-ce99b6fc8f50"
      },
      "execution_count": 40,
      "outputs": [
        {
          "output_type": "execute_result",
          "data": {
            "text/plain": [
              "[0, 1]"
            ]
          },
          "metadata": {},
          "execution_count": 40
        }
      ]
    },
    {
      "cell_type": "code",
      "source": [
        "from sklearn.metrics import classification_report\n",
        "print(classification_report(df2.iloc[:,-1],y_label))"
      ],
      "metadata": {
        "colab": {
          "base_uri": "https://localhost:8080/"
        },
        "id": "Yo3LkYyjinve",
        "outputId": "ad154975-10be-4033-e54a-3c709447279b"
      },
      "execution_count": 42,
      "outputs": [
        {
          "output_type": "stream",
          "name": "stdout",
          "text": [
            "              precision    recall  f1-score   support\n",
            "\n",
            "           0       1.00      1.00      1.00         1\n",
            "           1       1.00      1.00      1.00         1\n",
            "\n",
            "    accuracy                           1.00         2\n",
            "   macro avg       1.00      1.00      1.00         2\n",
            "weighted avg       1.00      1.00      1.00         2\n",
            "\n"
          ]
        }
      ]
    }
  ]
}